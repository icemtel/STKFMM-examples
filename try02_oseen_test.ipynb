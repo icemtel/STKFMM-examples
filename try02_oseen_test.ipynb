{
 "cells": [
  {
   "cell_type": "code",
   "execution_count": 3,
   "metadata": {},
   "outputs": [],
   "source": [
    "import numpy as np\n",
    "import sys\n",
    "from mpi4py import MPI\n",
    "import PySTKFMM\n",
    "import timer\n",
    "import matplotlib.pyplot as plt"
   ]
  },
  {
   "cell_type": "code",
   "execution_count": 5,
   "metadata": {},
   "outputs": [],
   "source": [
    "# FMM parameters\n",
    "mult_order = 10\n",
    "max_pts = 128\n",
    "pbc = PySTKFMM.PAXIS.NONE\n",
    "kernel = PySTKFMM.KERNEL.Stokes"
   ]
  },
  {
   "cell_type": "markdown",
   "metadata": {},
   "source": [
    "### Single stokeslet near a no-slip wall (Oseen problem)"
   ]
  },
  {
   "cell_type": "markdown",
   "metadata": {},
   "source": [
    "- Q: where is the wall?\n",
    "- Simulation is getting stuck?!"
   ]
  },
  {
   "cell_type": "code",
   "execution_count": null,
   "metadata": {},
   "outputs": [],
   "source": [
    "# Create sources and targets coordinates\n",
    "ntrg = 2\n",
    "\n",
    "src_coord = np.array([[1.5, 1.5, 1.5]]) # be careful not to set it with integer array\n",
    "nsrc = len(src_coord)\n",
    "                         \n",
    "trg_coord = np.array([src_coord[0] for i in range(ntrg)])\n",
    "for i in range(ntrg):\n",
    "    trg_coord[i, 0] += i * 0.04\n",
    "\n",
    "myFMM = PySTKFMM.StkWallFMM(mult_order, max_pts, pbc, kernel)\n",
    "myFMM.showActiveKernels()\n",
    "kdimSL, kdimDL, kdimTrg = myFMM.getKernelDimension(kernel)\n",
    "\n",
    "# Create sources and target values\n",
    "src_value = np.array([[1.,0,0]]) # unit force pointing in x-direction\n",
    "trg_value = np.zeros((ntrg, kdimTrg)) # target values = velocities\n",
    "\n",
    "# Set tree\n",
    "myFMM.setBox([-2.0, -2.0, -2.0], 4)\n",
    "myFMM.setPoints(nsrc, src_coord, ntrg, trg_coord, 0, None)\n",
    "myFMM.setupTree(kernel)\n",
    "\n",
    "# Evaluate FMM\n",
    "myFMM.evaluateFMM(kernel, nsrc, src_value, ntrg, trg_value, 0, None)"
   ]
  },
  {
   "cell_type": "code",
   "execution_count": null,
   "metadata": {},
   "outputs": [],
   "source": [
    "trg_abs = np.linalg.norm(trg_value, axis=1)\n",
    "\n",
    "xs = trg_coord[:,0]\n",
    "ys = trg_abs\n",
    "\n",
    "xs_slope = xs[1:]\n",
    "ys_slope = ys[1] * xs[1] * xs[1:] ** -1 # ~ 1/r\n",
    "\n",
    "plt.plot(xs, ys, 'o')\n",
    "plt.plot(xs_slope, ys_slope,'--')\n",
    "#plt.yscale('log')\n",
    "#plt.xscale('log')"
   ]
  },
  {
   "cell_type": "code",
   "execution_count": null,
   "metadata": {},
   "outputs": [],
   "source": []
  }
 ],
 "metadata": {
  "kernelspec": {
   "display_name": "Python 3",
   "language": "python",
   "name": "python3"
  },
  "language_info": {
   "codemirror_mode": {
    "name": "ipython",
    "version": 3
   },
   "file_extension": ".py",
   "mimetype": "text/x-python",
   "name": "python",
   "nbconvert_exporter": "python",
   "pygments_lexer": "ipython3",
   "version": "3.7.8"
  }
 },
 "nbformat": 4,
 "nbformat_minor": 4
}
