{
 "cells": [
  {
   "cell_type": "code",
   "execution_count": 1,
   "metadata": {},
   "outputs": [],
   "source": [
    "import numpy as np\n",
    "import sys\n",
    "from mpi4py import MPI # needed for STKFMM\n",
    "import PySTKFMM\n",
    "import timer\n",
    "import matplotlib.pyplot as plt"
   ]
  },
  {
   "cell_type": "markdown",
   "metadata": {},
   "source": [
    "### Single stokeslet"
   ]
  },
  {
   "cell_type": "code",
   "execution_count": 2,
   "metadata": {},
   "outputs": [],
   "source": [
    "# FMM parameters\n",
    "mult_order = 10\n",
    "max_pts = 128\n",
    "pbc = PySTKFMM.PAXIS.NONE\n",
    "kernel = PySTKFMM.KERNEL.Stokes"
   ]
  },
  {
   "cell_type": "code",
   "execution_count": 4,
   "metadata": {},
   "outputs": [],
   "source": [
    "# Create sources and targets coordinates\n",
    "ntrg = 10\n",
    "\n",
    "src_coord = np.array([[0, 0, 1.]]) # be careful not to set it with integer array\n",
    "nsrc = len(src_coord)\n",
    "                         \n",
    "trg_coord = np.array([src_coord[0] for i in range(ntrg)])\n",
    "for i in range(ntrg):\n",
    "    trg_coord[i, 0] += i * 0.1\n",
    "\n",
    "myFMM = PySTKFMM.Stk3DFMM(mult_order, max_pts, pbc, kernel)\n",
    "myFMM.showActiveKernels()\n",
    "kdimSL, kdimDL, kdimTrg = myFMM.getKernelDimension(kernel)\n",
    "\n",
    "# Create sources and target values\n",
    "src_value = np.array([[1.,0,0]]) # unit force pointing in x-direction\n",
    "trg_value = np.zeros((ntrg, kdimTrg)) # target values = velocities\n",
    "### No double layer sources\n",
    "nsrc_DL = 0\n",
    "src_DL_coord = None\n",
    "src_DL_value = None\n",
    "###\n",
    "\n",
    "# Set tree\n",
    "myFMM.setBox([-2.0, -2.0, -2.0], 4)\n",
    "myFMM.setPoints(nsrc, src_coord, ntrg, trg_coord, 0, None)\n",
    "myFMM.setupTree(kernel)\n",
    "\n",
    "# Evaluate FMM\n",
    "myFMM.evaluateFMM(kernel, nsrc, src_value, ntrg, trg_value, nsrc_DL, src_DL_value)"
   ]
  },
  {
   "cell_type": "code",
   "execution_count": 5,
   "metadata": {},
   "outputs": [
    {
     "data": {
      "text/plain": [
       "[<matplotlib.lines.Line2D at 0x7f1118f86a90>]"
      ]
     },
     "execution_count": 5,
     "metadata": {},
     "output_type": "execute_result"
    },
    {
     "data": {
      "image/png": "[encoded data removed]",
      "text/plain": [
       "<Figure size 432x288 with 1 Axes>"
      ]
     },
     "metadata": {
      "needs_background": "light"
     },
     "output_type": "display_data"
    }
   ],
   "source": [
    "trg_abs = np.linalg.norm(trg_value, axis=1)\n",
    "\n",
    "xs = trg_coord[:,0]\n",
    "ys = trg_abs\n",
    "\n",
    "xs_slope = xs[1:]\n",
    "ys_slope = ys[1] * xs[1] * xs[1:] ** -1 # ~ 1/r\n",
    "\n",
    "plt.plot(xs, ys, 'o')\n",
    "plt.plot(xs_slope, ys_slope,'--')\n",
    "#plt.yscale('log')\n",
    "#plt.xscale('log')"
   ]
  },
  {
   "cell_type": "markdown",
   "metadata": {},
   "source": [
    "- OK: Single stokeslet -> fluid velocity scales exactly as inverse distance to the stokeslet.\n",
    "- Velocity in the singularity is equal to zero.\n",
    "- TODO: check exact values"
   ]
  },
  {
   "cell_type": "markdown",
   "metadata": {},
   "source": [
    "### Two stokeslets"
   ]
  },
  {
   "cell_type": "code",
   "execution_count": 6,
   "metadata": {},
   "outputs": [],
   "source": [
    "# Create sources and targets coordinates\n",
    "ntrg = 30\n",
    "\n",
    "src_coord = np.array([[-1, 0, 1.], [1, 0, 1.]]) # be careful not to set it with integer array\n",
    "nsrc = len(src_coord)\n",
    "\n",
    "trg_coord = np.array([[0,0,1.] for i in range(ntrg)])\n",
    "for i in range(ntrg):\n",
    "    trg_coord[i,0] += - 1.5 +  i * 0.1\n",
    "\n",
    "#\n",
    "myFMM = PySTKFMM.Stk3DFMM(mult_order, max_pts, pbc, kernel)\n",
    "myFMM.showActiveKernels()\n",
    "kdimSL, kdimDL, kdimTrg = myFMM.getKernelDimension(kernel)\n",
    "\n",
    "# Create sources and target values\n",
    "src_value = np.array([[1.,0,0], [-1.,0,0]])\n",
    "trg_value = np.zeros((ntrg, kdimTrg))\n",
    "###\n",
    "\n",
    "# Set tree\n",
    "myFMM.setBox([-2.0, -2.0, -2.0], 4)\n",
    "myFMM.setPoints(nsrc, src_coord, ntrg, trg_coord, 0, None)\n",
    "myFMM.setupTree(kernel)\n",
    "\n",
    "# Evaluate FMM\n",
    "myFMM.evaluateFMM(kernel, nsrc, src_value, ntrg, trg_value, 0, None)"
   ]
  },
  {
   "cell_type": "code",
   "execution_count": 7,
   "metadata": {},
   "outputs": [
    {
     "data": {
      "text/plain": [
       "[<matplotlib.lines.Line2D at 0x7f1118e9f8d0>]"
      ]
     },
     "execution_count": 7,
     "metadata": {},
     "output_type": "execute_result"
    },
    {
     "data": {
      "image/png": "[encoded data removed]",
      "text/plain": [
       "<Figure size 432x288 with 1 Axes>"
      ]
     },
     "metadata": {
      "needs_background": "light"
     },
     "output_type": "display_data"
    }
   ],
   "source": [
    "trg_abs = np.linalg.norm(trg_value, axis=1)\n",
    "\n",
    "xs = trg_coord[:,0]\n",
    "ys = trg_value[:,0]\n",
    "\n",
    "for c in src_coord:\n",
    "    plt.axvline(x=c[0], linestyle='--', color='black')\n",
    "\n",
    "plt.plot(xs, ys, '--o')"
   ]
  },
  {
   "cell_type": "markdown",
   "metadata": {},
   "source": [
    "- OK: symmetry\n",
    "- In points with singularity always zero velocity!"
   ]
  },
  {
   "cell_type": "code",
   "execution_count": null,
   "metadata": {},
   "outputs": [],
   "source": []
  }
 ],
 "metadata": {
  "kernelspec": {
   "display_name": "Python 3",
   "language": "python",
   "name": "python3"
  },
  "language_info": {
   "codemirror_mode": {
    "name": "ipython",
    "version": 3
   },
   "file_extension": ".py",
   "mimetype": "text/x-python",
   "name": "python",
   "nbconvert_exporter": "python",
   "pygments_lexer": "ipython3",
   "version": "3.7.8"
  }
 },
 "nbformat": 4,
 "nbformat_minor": 4
}
